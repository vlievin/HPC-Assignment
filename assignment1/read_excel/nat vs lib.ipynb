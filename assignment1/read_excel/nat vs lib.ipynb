{
 "cells": [
  {
   "cell_type": "markdown",
   "metadata": {},
   "source": [
    "# nat vs. lib "
   ]
  },
  {
   "cell_type": "code",
   "execution_count": 1,
   "metadata": {
    "collapsed": false
   },
   "outputs": [
    {
     "name": "stdout",
     "output_type": "stream",
     "text": [
      "hpc-dtu@hpc-dtu.iam.gserviceaccount.com\n"
     ]
    }
   ],
   "source": [
    "import json\n",
    "import gspread\n",
    "from oauth2client.client import SignedJwtAssertionCredentials\n",
    "import matplotlib\n",
    "import numpy as np\n",
    "import matplotlib.pyplot as plt\n",
    "%matplotlib inline  \n",
    "plt.rcParams['figure.figsize'] = (10.0, 4.0)\n",
    "\n",
    "json_key = json.load(open('HPC-DTU-8919f5b0203e.json'))\n",
    "scope = ['https://spreadsheets.google.com/feeds']\n",
    "\n",
    "credentials = SignedJwtAssertionCredentials(json_key['client_email'], json_key['private_key'].encode(), scope)\n",
    "\n",
    "print json_key['client_email']"
   ]
  },
  {
   "cell_type": "code",
   "execution_count": 2,
   "metadata": {
    "collapsed": false
   },
   "outputs": [],
   "source": [
    "gc = gspread.authorize(credentials)\n",
    "\n",
    "# Or, if you feel really lazy to extract that key, paste the entire url\n",
    "sh = gc.open_by_key('1EdRf2xPn6B-lqI_itu3DAjfM7bJQJG5jHXGAeL3xwCg')\n",
    "worksheet_list = sh.worksheets()\n",
    "ws = worksheet_list[0]"
   ]
  },
  {
   "cell_type": "code",
   "execution_count": 3,
   "metadata": {
    "collapsed": false
   },
   "outputs": [],
   "source": [
    "def getVec( col, n_min, n_max):\n",
    "    values_list = ws.col_values(col)\n",
    "    vs = []\n",
    "    for i in range(n_min,n_max ):\n",
    "        vs.append(values_list[i])\n",
    "        \n",
    "    return vs\n",
    "    "
   ]
  },
  {
   "cell_type": "code",
   "execution_count": 4,
   "metadata": {
    "collapsed": false
   },
   "outputs": [],
   "source": [
    "l_begin = 3\n",
    "l_end = 14\n",
    "\n",
    "    \n",
    "v_mem_nat = getVec( 3,l_begin,l_end )\n",
    "v_flops_nat = getVec( 4,l_begin,l_end )\n",
    "\n",
    "v_mem_lib = getVec( 6,l_begin,l_end )\n",
    "v_flops_lib = getVec( 7,l_begin,l_end )"
   ]
  },
  {
   "cell_type": "code",
   "execution_count": 13,
   "metadata": {
    "collapsed": false
   },
   "outputs": [
    {
     "data": {
      "image/png": "[encoded data removed]",
      "text/plain": [
       "<matplotlib.figure.Figure at 0x7fc306e622d0>"
      ]
     },
     "metadata": {},
     "output_type": "display_data"
    }
   ],
   "source": [
    "plt.title('mflops/s vs memory occupation')\n",
    "plt.xlabel('memory occupation (kB)')\n",
    "plt.ylabel('mflop/s')\n",
    "plt.loglog( v_mem_nat, v_flops_nat, color = '#e74c3c', linewidth = 3, label='nat')\n",
    "plt.loglog( v_mem_lib, v_flops_lib, color = '#1abc9c', linewidth = 3, label='lib')\n",
    "plt.legend(loc='best', numpoints=1)\n",
    "\n",
    "plt.grid(True)"
   ]
  },
  {
   "cell_type": "code",
   "execution_count": null,
   "metadata": {
    "collapsed": true
   },
   "outputs": [],
   "source": []
  }
 ],
 "metadata": {
  "kernelspec": {
   "display_name": "Python 2",
   "language": "python",
   "name": "python2"
  },
  "language_info": {
   "codemirror_mode": {
    "name": "ipython",
    "version": 2
   },
   "file_extension": ".py",
   "mimetype": "text/x-python",
   "name": "python",
   "nbconvert_exporter": "python",
   "pygments_lexer": "ipython2",
   "version": "2.7.10"
  }
 },
 "nbformat": 4,
 "nbformat_minor": 0
}
